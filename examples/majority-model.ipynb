{
 "cells": [
  {
   "cell_type": "markdown",
   "metadata": {},
   "source": [
    "# Majority model validation with `bsky-net`\n",
    "\n",
    "(This is a work in progress)\n",
    "\n",
    "Disclaimer: this example currently uses _fake data labels_. Specifically, the \"on-topic\" and \"expressed opinion\" labels are randomly generated. However, this example is representative of how this validation set could be used.\n"
   ]
  },
  {
   "cell_type": "code",
   "execution_count": 19,
   "metadata": {},
   "outputs": [],
   "source": [
    "# Imports\n",
    "import json\n",
    "import random\n",
    "import os\n",
    "\n",
    "from bsky_net import did_from_uri, UserTimestep, generate_timestamps\n",
    "\n",
    "# Constants\n",
    "ENGAGEMENT_DIR = \"../data/processed/engagement-daily-2023-04-01\"\n",
    "START_DATE = \"2022-11-17\"  # Bluesky launch date\n",
    "END_DATE = \"2023-02-01\""
   ]
  },
  {
   "cell_type": "code",
   "execution_count": 32,
   "metadata": {},
   "outputs": [
    {
     "name": "stdout",
     "output_type": "stream",
     "text": [
      "{\n",
      "  \"interactive\": true,\n",
      "  \"consumed\": {\n",
      "    \"at://did:plc:vpkhqolt662uhesyj6nxm7ys/app.bsky.feed.post/3jho2rgvx7c27\": {\n",
      "      \"did\": \"did:plc:vpkhqolt662uhesyj6nxm7ys\",\n",
      "      \"uri\": \"at://did:plc:vpkhqolt662uhesyj6nxm7ys/app.bsky.feed.post/3jho2rgvx7c27\",\n",
      "      \"in_network\": false,\n",
      "      \"createdAt\": \"2022-11-17T01:05:19.257Z\",\n",
      "      \"expressed_opinion\": 0,\n",
      "      \"reactions\": [\n",
      "        {\n",
      "          \"type\": \"like\",\n",
      "          \"createdAt\": \"2022-11-17T01:05:55.172Z\"\n",
      "        }\n",
      "      ]\n",
      "    },\n",
      "    \"at://did:plc:yk4dd2qkboz2yv6tpubpc6co/app.bsky.feed.post/3jho3ajhbbk2c\": {\n",
      "      \"did\": \"did:plc:yk4dd...\n"
     ]
    }
   ],
   "source": [
    "# Check out data\n",
    "\n",
    "for timestamp in generate_timestamps(START_DATE, END_DATE):\n",
    "    with open(os.path.join(ENGAGEMENT_DIR, f\"{timestamp}.json\"), \"r\") as f:\n",
    "        data = json.load(f)\n",
    "        print(f\"{json.dumps(data, indent=2)[:600]}...\")\n",
    "        break\n"
   ]
  },
  {
   "cell_type": "code",
   "execution_count": 22,
   "metadata": {},
   "outputs": [],
   "source": [
    "# Initialize opinions\n",
    "opinions = {}\n",
    "\n",
    "# Run majority model\n",
    "for timestamp in generate_timestamps(START_DATE, END_DATE):\n",
    "    with open(os.path.join(ENGAGEMENT_DIR, f\"{timestamp}.json\"), \"r\") as f:\n",
    "        data: dict[str, UserTimestep] = json.load(f)\n",
    "\n",
    "        # TODO: define majority rules"
   ]
  },
  {
   "cell_type": "code",
   "execution_count": 24,
   "metadata": {},
   "outputs": [],
   "source": [
    "# TODO: Visualize opinions over time, etc."
   ]
  },
  {
   "cell_type": "code",
   "execution_count": 17,
   "metadata": {},
   "outputs": [
    {
     "name": "stdout",
     "output_type": "stream",
     "text": [
      "Number of users: 191\n",
      "Positive opinions: 191\n",
      "Negative opinions: 0\n",
      "Neutral opinions: 0\n"
     ]
    }
   ],
   "source": [
    "# TODO: Actual validation analysis, calculate metrics, etc.\n",
    "\n",
    "positive_count = sum(1 for opinion in opinions.values() if opinion > 0)\n",
    "negative_count = sum(1 for opinion in opinions.values() if opinion < 0)\n",
    "neutral_count = sum(1 for opinion in opinions.values() if opinion == 0)\n",
    "\n",
    "print(f\"Number of users: {len(opinions)}\")\n",
    "print(f\"Positive opinions: {positive_count}\")\n",
    "print(f\"Negative opinions: {negative_count}\")\n",
    "print(f\"Neutral opinions: {neutral_count}\")"
   ]
  }
 ],
 "metadata": {
  "kernelspec": {
   "display_name": ".venv",
   "language": "python",
   "name": "python3"
  },
  "language_info": {
   "codemirror_mode": {
    "name": "ipython",
    "version": 3
   },
   "file_extension": ".py",
   "mimetype": "text/x-python",
   "name": "python",
   "nbconvert_exporter": "python",
   "pygments_lexer": "ipython3",
   "version": "3.12.5"
  }
 },
 "nbformat": 4,
 "nbformat_minor": 2
}
