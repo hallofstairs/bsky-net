{
 "cells": [
  {
   "cell_type": "code",
   "execution_count": null,
   "metadata": {},
   "outputs": [],
   "source": [
    "import json\n",
    "import random\n",
    "\n",
    "from bsky_net.types import UserTimestep\n",
    "from bsky_net.utils import did_from_uri"
   ]
  },
  {
   "cell_type": "code",
   "execution_count": null,
   "metadata": {},
   "outputs": [],
   "source": [
    "# Load dataset\n",
    "with open(\"../data/processed/impressions-2023-01-01.json\") as file:\n",
    "    impressions: dict[str, dict[str, UserTimestep]] = json.load(file)"
   ]
  },
  {
   "cell_type": "code",
   "execution_count": null,
   "metadata": {},
   "outputs": [],
   "source": [
    "# Initialize opinions (randomly)\n",
    "opinions = {\n",
    "    user_did: random.choice([-1, 0, 1])\n",
    "    for user_updates in impressions.values()\n",
    "    for user_did in user_updates.keys()\n",
    "}"
   ]
  },
  {
   "cell_type": "code",
   "execution_count": null,
   "metadata": {},
   "outputs": [],
   "source": [
    "# Run voter model\n",
    "for timestep, user_updates in impressions.items():\n",
    "    new_opinions = {}\n",
    "\n",
    "    for consumer_did, consumer_impressions in user_updates.items():\n",
    "        # Skip users who have no impressions for that timestep\n",
    "        if not consumer_impressions[\"consumed\"]:\n",
    "            continue\n",
    "\n",
    "        # Select a random producer to adapt opinion from\n",
    "        producers = list(\n",
    "            {did_from_uri(uri) for uri in consumer_impressions[\"consumed\"].keys()}\n",
    "        )\n",
    "        random_producer = random.choice(producers)\n",
    "        new_opinion = opinions[random_producer]\n",
    "\n",
    "        # Assign new opinion\n",
    "        new_opinions[consumer_did] = new_opinion\n",
    "\n",
    "    # Update opinions reference\n",
    "    opinions = {**opinions, **new_opinions}"
   ]
  },
  {
   "cell_type": "code",
   "execution_count": 2,
   "metadata": {},
   "outputs": [
    {
     "ename": "NameError",
     "evalue": "name 'opinions' is not defined",
     "output_type": "error",
     "traceback": [
      "\u001b[0;31m---------------------------------------------------------------------------\u001b[0m",
      "\u001b[0;31mNameError\u001b[0m                                 Traceback (most recent call last)",
      "Cell \u001b[0;32mIn[2], line 2\u001b[0m\n\u001b[1;32m      1\u001b[0m \u001b[38;5;66;03m# \u001b[39;00m\n\u001b[0;32m----> 2\u001b[0m \u001b[38;5;28mprint\u001b[39m(\u001b[38;5;124mf\u001b[39m\u001b[38;5;124m\"\u001b[39m\u001b[38;5;124mNumber of users: \u001b[39m\u001b[38;5;132;01m{\u001b[39;00m\u001b[38;5;28mlen\u001b[39m(\u001b[43mopinions\u001b[49m)\u001b[38;5;132;01m}\u001b[39;00m\u001b[38;5;124m\"\u001b[39m)\n",
      "\u001b[0;31mNameError\u001b[0m: name 'opinions' is not defined"
     ]
    }
   ],
   "source": [
    "# Display plots of opinions\n",
    "print(f\"Number of users: {len(opinions)}\")"
   ]
  },
  {
   "cell_type": "code",
   "execution_count": null,
   "metadata": {},
   "outputs": [],
   "source": []
  }
 ],
 "metadata": {
  "kernelspec": {
   "display_name": ".venv",
   "language": "python",
   "name": "python3"
  },
  "language_info": {
   "codemirror_mode": {
    "name": "ipython",
    "version": 3
   },
   "file_extension": ".py",
   "mimetype": "text/x-python",
   "name": "python",
   "nbconvert_exporter": "python",
   "pygments_lexer": "ipython3",
   "version": "3.12.5"
  }
 },
 "nbformat": 4,
 "nbformat_minor": 2
}
